{
 "cells": [
  {
   "cell_type": "code",
   "execution_count": 0,
   "metadata": {
    "application/vnd.databricks.v1+cell": {
     "cellMetadata": {
      "byteLimit": 2048000,
      "rowLimit": 10000
     },
     "inputWidgets": {},
     "nuid": "899f5a41-745a-49ec-8212-4396ab0fc27a",
     "showTitle": false,
     "title": ""
    }
   },
   "outputs": [],
   "source": [
    "# Read JSON file into DataFrame\n",
    "df = spark.read.option(\"multiline\", \"true\").json('dbfs:/FileStore/movie_sample.json')"
   ]
  },
  {
   "cell_type": "code",
   "execution_count": 0,
   "metadata": {
    "application/vnd.databricks.v1+cell": {
     "cellMetadata": {
      "byteLimit": 2048000,
      "rowLimit": 10000
     },
     "inputWidgets": {},
     "nuid": "31b26c0e-ee66-4119-b1b9-fee3f5b487af",
     "showTitle": false,
     "title": ""
    }
   },
   "outputs": [
    {
     "output_type": "stream",
     "name": "stdout",
     "output_type": "stream",
     "text": [
      "root\n |-- box_office: struct (nullable = true)\n |    |-- budget: long (nullable = true)\n |    |-- gross: long (nullable = true)\n |-- cast: array (nullable = true)\n |    |-- element: struct (containsNull = true)\n |    |    |-- dob: string (nullable = true)\n |    |    |-- name: string (nullable = true)\n |    |    |-- role: string (nullable = true)\n |-- director: struct (nullable = true)\n |    |-- dob: string (nullable = true)\n |    |-- name: string (nullable = true)\n |-- genre: string (nullable = true)\n |-- title: string (nullable = true)\n |-- year: long (nullable = true)\n\n"
     ]
    }
   ],
   "source": [
    "# Show the first few rows of the DataFrame\n",
    "# df.show(truncate=False)\n",
    "\n",
    "# Print the schema of the DataFrame\n",
    "df.printSchema()"
   ]
  },
  {
   "cell_type": "code",
   "execution_count": 0,
   "metadata": {
    "application/vnd.databricks.v1+cell": {
     "cellMetadata": {
      "byteLimit": 2048000,
      "rowLimit": 10000
     },
     "inputWidgets": {},
     "nuid": "cb24c8bb-2cba-4afc-a220-2879d7657503",
     "showTitle": false,
     "title": ""
    }
   },
   "outputs": [
    {
     "output_type": "stream",
     "name": "stdout",
     "output_type": "stream",
     "text": [
      "root\n |-- budget: long (nullable = true)\n |-- gross: long (nullable = true)\n |-- cast: array (nullable = true)\n |    |-- element: struct (containsNull = true)\n |    |    |-- dob: string (nullable = true)\n |    |    |-- name: string (nullable = true)\n |    |    |-- role: string (nullable = true)\n |-- dob: string (nullable = true)\n |-- name: string (nullable = true)\n |-- genre: string (nullable = true)\n |-- title: string (nullable = true)\n |-- year: long (nullable = true)\n\n"
     ]
    },
    {
     "output_type": "display_data",
     "data": {
      "text/html": [
       "<style scoped>\n",
       "  .table-result-container {\n",
       "    max-height: 300px;\n",
       "    overflow: auto;\n",
       "  }\n",
       "  table, th, td {\n",
       "    border: 1px solid black;\n",
       "    border-collapse: collapse;\n",
       "  }\n",
       "  th, td {\n",
       "    padding: 5px;\n",
       "  }\n",
       "  th {\n",
       "    text-align: left;\n",
       "  }\n",
       "</style><div class='table-result-container'><table class='table-result'><thead style='background-color: white'><tr><th>budget</th><th>gross</th><th>cast</th><th>dob</th><th>name</th><th>genre</th><th>title</th><th>year</th></tr></thead><tbody><tr><td>70000000</td><td>2300000000</td><td>List(List(1965-03-14, Aamir Khan, Mahavir Singh Phogat), List(1992-01-11, Fatima Sana Shaikh, Geeta Phogat))</td><td>1973-05-26</td><td>Nitesh Tiwari</td><td>Biography, Drama, Sport</td><td>Dangal</td><td>2016</td></tr><tr><td>180000000</td><td>650000000</td><td>List(List(1979-10-23, Prabhas, Shivudu / Mahendra Baahubali), List(1984-12-14, Rana Daggubati, Bhallaladeva))</td><td>1973-10-10</td><td>S.S. Rajamouli</td><td>Action, Drama</td><td>Baahubali: The Beginning</td><td>2015</td></tr><tr><td>55000000</td><td>460000000</td><td>List(List(1965-03-14, Aamir Khan, Rancho), List(1970-06-01, R. Madhavan, Farhan Qureshi), List(1979-04-28, Sharman Joshi, Raju Rastogi))</td><td>1962-11-20</td><td>Rajkumar Hirani</td><td>Comedy, Drama</td><td>3 Idiots</td><td>2009</td></tr></tbody></table></div>"
      ]
     },
     "metadata": {
      "application/vnd.databricks.v1+output": {
       "addedWidgets": {},
       "aggData": [],
       "aggError": "",
       "aggOverflow": false,
       "aggSchema": [],
       "aggSeriesLimitReached": false,
       "aggType": "",
       "arguments": {},
       "columnCustomDisplayInfos": {},
       "data": [
        [
         70000000,
         2300000000,
         [
          [
           "1965-03-14",
           "Aamir Khan",
           "Mahavir Singh Phogat"
          ],
          [
           "1992-01-11",
           "Fatima Sana Shaikh",
           "Geeta Phogat"
          ]
         ],
         "1973-05-26",
         "Nitesh Tiwari",
         "Biography, Drama, Sport",
         "Dangal",
         2016
        ],
        [
         180000000,
         650000000,
         [
          [
           "1979-10-23",
           "Prabhas",
           "Shivudu / Mahendra Baahubali"
          ],
          [
           "1984-12-14",
           "Rana Daggubati",
           "Bhallaladeva"
          ]
         ],
         "1973-10-10",
         "S.S. Rajamouli",
         "Action, Drama",
         "Baahubali: The Beginning",
         2015
        ],
        [
         55000000,
         460000000,
         [
          [
           "1965-03-14",
           "Aamir Khan",
           "Rancho"
          ],
          [
           "1970-06-01",
           "R. Madhavan",
           "Farhan Qureshi"
          ],
          [
           "1979-04-28",
           "Sharman Joshi",
           "Raju Rastogi"
          ]
         ],
         "1962-11-20",
         "Rajkumar Hirani",
         "Comedy, Drama",
         "3 Idiots",
         2009
        ]
       ],
       "datasetInfos": [],
       "dbfsResultPath": null,
       "isJsonSchema": true,
       "metadata": {},
       "overflow": false,
       "plotOptions": {
        "customPlotOptions": {},
        "displayType": "table",
        "pivotAggregation": null,
        "pivotColumns": null,
        "xColumns": null,
        "yColumns": null
       },
       "removedWidgets": [],
       "schema": [
        {
         "metadata": "{}",
         "name": "budget",
         "type": "\"long\""
        },
        {
         "metadata": "{}",
         "name": "gross",
         "type": "\"long\""
        },
        {
         "metadata": "{}",
         "name": "cast",
         "type": "{\"type\":\"array\",\"elementType\":{\"type\":\"struct\",\"fields\":[{\"name\":\"dob\",\"type\":\"string\",\"nullable\":true,\"metadata\":{}},{\"name\":\"name\",\"type\":\"string\",\"nullable\":true,\"metadata\":{}},{\"name\":\"role\",\"type\":\"string\",\"nullable\":true,\"metadata\":{}}]},\"containsNull\":true}"
        },
        {
         "metadata": "{}",
         "name": "dob",
         "type": "\"string\""
        },
        {
         "metadata": "{}",
         "name": "name",
         "type": "\"string\""
        },
        {
         "metadata": "{}",
         "name": "genre",
         "type": "\"string\""
        },
        {
         "metadata": "{}",
         "name": "title",
         "type": "\"string\""
        },
        {
         "metadata": "{}",
         "name": "year",
         "type": "\"long\""
        }
       ],
       "type": "table"
      }
     },
     "output_type": "display_data"
    }
   ],
   "source": [
    "# Flatten the DataFrame by selecting nested fields explicitly\n",
    "flattened_df = df.select(\n",
    "    \"box_office.budget\",\n",
    "    \"box_office.gross\",\n",
    "    \"cast\",\n",
    "    \"director.dob\",\n",
    "    \"director.name\",\n",
    "    \"genre\",\n",
    "    \"title\",\n",
    "    \"year\"\n",
    ")\n",
    "flattened_df.printSchema()\n",
    "display(flattened_df)"
   ]
  },
  {
   "cell_type": "code",
   "execution_count": 0,
   "metadata": {
    "application/vnd.databricks.v1+cell": {
     "cellMetadata": {
      "byteLimit": 2048000,
      "rowLimit": 10000
     },
     "inputWidgets": {},
     "nuid": "9e3ef319-fc21-4e75-b74c-b52d765f136c",
     "showTitle": false,
     "title": ""
    }
   },
   "outputs": [
    {
     "output_type": "stream",
     "name": "stdout",
     "output_type": "stream",
     "text": [
      "root\n |-- cast: struct (nullable = true)\n |    |-- dob: string (nullable = true)\n |    |-- name: string (nullable = true)\n |    |-- role: string (nullable = true)\n |-- director_dob: string (nullable = true)\n |-- director_name: string (nullable = true)\n |-- genre: string (nullable = true)\n |-- title: string (nullable = true)\n |-- year: long (nullable = true)\n\n"
     ]
    },
    {
     "output_type": "display_data",
     "data": {
      "text/html": [
       "<style scoped>\n",
       "  .table-result-container {\n",
       "    max-height: 300px;\n",
       "    overflow: auto;\n",
       "  }\n",
       "  table, th, td {\n",
       "    border: 1px solid black;\n",
       "    border-collapse: collapse;\n",
       "  }\n",
       "  th, td {\n",
       "    padding: 5px;\n",
       "  }\n",
       "  th {\n",
       "    text-align: left;\n",
       "  }\n",
       "</style><div class='table-result-container'><table class='table-result'><thead style='background-color: white'><tr><th>cast</th><th>director_dob</th><th>director_name</th><th>genre</th><th>title</th><th>year</th></tr></thead><tbody><tr><td>List(1965-03-14, Aamir Khan, Mahavir Singh Phogat)</td><td>1973-05-26</td><td>Nitesh Tiwari</td><td>Biography, Drama, Sport</td><td>Dangal</td><td>2016</td></tr><tr><td>List(1992-01-11, Fatima Sana Shaikh, Geeta Phogat)</td><td>1973-05-26</td><td>Nitesh Tiwari</td><td>Biography, Drama, Sport</td><td>Dangal</td><td>2016</td></tr><tr><td>List(1979-10-23, Prabhas, Shivudu / Mahendra Baahubali)</td><td>1973-10-10</td><td>S.S. Rajamouli</td><td>Action, Drama</td><td>Baahubali: The Beginning</td><td>2015</td></tr><tr><td>List(1984-12-14, Rana Daggubati, Bhallaladeva)</td><td>1973-10-10</td><td>S.S. Rajamouli</td><td>Action, Drama</td><td>Baahubali: The Beginning</td><td>2015</td></tr><tr><td>List(1965-03-14, Aamir Khan, Rancho)</td><td>1962-11-20</td><td>Rajkumar Hirani</td><td>Comedy, Drama</td><td>3 Idiots</td><td>2009</td></tr><tr><td>List(1970-06-01, R. Madhavan, Farhan Qureshi)</td><td>1962-11-20</td><td>Rajkumar Hirani</td><td>Comedy, Drama</td><td>3 Idiots</td><td>2009</td></tr><tr><td>List(1979-04-28, Sharman Joshi, Raju Rastogi)</td><td>1962-11-20</td><td>Rajkumar Hirani</td><td>Comedy, Drama</td><td>3 Idiots</td><td>2009</td></tr></tbody></table></div>"
      ]
     },
     "metadata": {
      "application/vnd.databricks.v1+output": {
       "addedWidgets": {},
       "aggData": [],
       "aggError": "",
       "aggOverflow": false,
       "aggSchema": [],
       "aggSeriesLimitReached": false,
       "aggType": "",
       "arguments": {},
       "columnCustomDisplayInfos": {},
       "data": [
        [
         [
          "1965-03-14",
          "Aamir Khan",
          "Mahavir Singh Phogat"
         ],
         "1973-05-26",
         "Nitesh Tiwari",
         "Biography, Drama, Sport",
         "Dangal",
         2016
        ],
        [
         [
          "1992-01-11",
          "Fatima Sana Shaikh",
          "Geeta Phogat"
         ],
         "1973-05-26",
         "Nitesh Tiwari",
         "Biography, Drama, Sport",
         "Dangal",
         2016
        ],
        [
         [
          "1979-10-23",
          "Prabhas",
          "Shivudu / Mahendra Baahubali"
         ],
         "1973-10-10",
         "S.S. Rajamouli",
         "Action, Drama",
         "Baahubali: The Beginning",
         2015
        ],
        [
         [
          "1984-12-14",
          "Rana Daggubati",
          "Bhallaladeva"
         ],
         "1973-10-10",
         "S.S. Rajamouli",
         "Action, Drama",
         "Baahubali: The Beginning",
         2015
        ],
        [
         [
          "1965-03-14",
          "Aamir Khan",
          "Rancho"
         ],
         "1962-11-20",
         "Rajkumar Hirani",
         "Comedy, Drama",
         "3 Idiots",
         2009
        ],
        [
         [
          "1970-06-01",
          "R. Madhavan",
          "Farhan Qureshi"
         ],
         "1962-11-20",
         "Rajkumar Hirani",
         "Comedy, Drama",
         "3 Idiots",
         2009
        ],
        [
         [
          "1979-04-28",
          "Sharman Joshi",
          "Raju Rastogi"
         ],
         "1962-11-20",
         "Rajkumar Hirani",
         "Comedy, Drama",
         "3 Idiots",
         2009
        ]
       ],
       "datasetInfos": [],
       "dbfsResultPath": null,
       "isJsonSchema": true,
       "metadata": {},
       "overflow": false,
       "plotOptions": {
        "customPlotOptions": {},
        "displayType": "table",
        "pivotAggregation": null,
        "pivotColumns": null,
        "xColumns": null,
        "yColumns": null
       },
       "removedWidgets": [],
       "schema": [
        {
         "metadata": "{}",
         "name": "cast",
         "type": "{\"type\":\"struct\",\"fields\":[{\"name\":\"dob\",\"type\":\"string\",\"nullable\":true,\"metadata\":{}},{\"name\":\"name\",\"type\":\"string\",\"nullable\":true,\"metadata\":{}},{\"name\":\"role\",\"type\":\"string\",\"nullable\":true,\"metadata\":{}}]}"
        },
        {
         "metadata": "{}",
         "name": "director_dob",
         "type": "\"string\""
        },
        {
         "metadata": "{}",
         "name": "director_name",
         "type": "\"string\""
        },
        {
         "metadata": "{}",
         "name": "genre",
         "type": "\"string\""
        },
        {
         "metadata": "{}",
         "name": "title",
         "type": "\"string\""
        },
        {
         "metadata": "{}",
         "name": "year",
         "type": "\"long\""
        }
       ],
       "type": "table"
      }
     },
     "output_type": "display_data"
    }
   ],
   "source": [
    "from pyspark.sql.functions import explode\n",
    "\n",
    "# Explode the array column\n",
    "exploded_df = flattened_df.withColumn(\"cast\", explode(flattened_df[\"cast\"]))\n",
    "\n",
    "# Remove column\n",
    "exploded_df = exploded_df.drop(\"budget\", \"gross\")\n",
    "\n",
    "# Rename columns\n",
    "exploded_df = exploded_df.withColumnRenamed(\"dob\", \"director_dob\").withColumnRenamed(\"name\", \"director_name\")\n",
    "\n",
    "exploded_df.printSchema()\n",
    "\n",
    "display(exploded_df)"
   ]
  },
  {
   "cell_type": "code",
   "execution_count": 0,
   "metadata": {
    "application/vnd.databricks.v1+cell": {
     "cellMetadata": {
      "byteLimit": 2048000,
      "rowLimit": 10000
     },
     "inputWidgets": {},
     "nuid": "760602b8-5674-4ad5-afbd-2373459736ab",
     "showTitle": false,
     "title": ""
    }
   },
   "outputs": [
    {
     "output_type": "display_data",
     "data": {
      "text/html": [
       "<style scoped>\n",
       "  .table-result-container {\n",
       "    max-height: 300px;\n",
       "    overflow: auto;\n",
       "  }\n",
       "  table, th, td {\n",
       "    border: 1px solid black;\n",
       "    border-collapse: collapse;\n",
       "  }\n",
       "  th, td {\n",
       "    padding: 5px;\n",
       "  }\n",
       "  th {\n",
       "    text-align: left;\n",
       "  }\n",
       "</style><div class='table-result-container'><table class='table-result'><thead style='background-color: white'><tr><th>director_dob</th><th>director_name</th><th>genre</th><th>title</th><th>year</th><th>date_of_birth</th><th>actor_name</th><th>actor_role</th></tr></thead><tbody><tr><td>1973-05-26</td><td>Nitesh Tiwari</td><td>Biography, Drama, Sport</td><td>Dangal</td><td>2016</td><td>1965-03-14</td><td>Aamir Khan</td><td>Mahavir Singh Phogat</td></tr><tr><td>1973-05-26</td><td>Nitesh Tiwari</td><td>Biography, Drama, Sport</td><td>Dangal</td><td>2016</td><td>1992-01-11</td><td>Fatima Sana Shaikh</td><td>Geeta Phogat</td></tr><tr><td>1973-10-10</td><td>S.S. Rajamouli</td><td>Action, Drama</td><td>Baahubali: The Beginning</td><td>2015</td><td>1979-10-23</td><td>Prabhas</td><td>Shivudu / Mahendra Baahubali</td></tr><tr><td>1973-10-10</td><td>S.S. Rajamouli</td><td>Action, Drama</td><td>Baahubali: The Beginning</td><td>2015</td><td>1984-12-14</td><td>Rana Daggubati</td><td>Bhallaladeva</td></tr><tr><td>1962-11-20</td><td>Rajkumar Hirani</td><td>Comedy, Drama</td><td>3 Idiots</td><td>2009</td><td>1965-03-14</td><td>Aamir Khan</td><td>Rancho</td></tr><tr><td>1962-11-20</td><td>Rajkumar Hirani</td><td>Comedy, Drama</td><td>3 Idiots</td><td>2009</td><td>1970-06-01</td><td>R. Madhavan</td><td>Farhan Qureshi</td></tr><tr><td>1962-11-20</td><td>Rajkumar Hirani</td><td>Comedy, Drama</td><td>3 Idiots</td><td>2009</td><td>1979-04-28</td><td>Sharman Joshi</td><td>Raju Rastogi</td></tr></tbody></table></div>"
      ]
     },
     "metadata": {
      "application/vnd.databricks.v1+output": {
       "addedWidgets": {},
       "aggData": [],
       "aggError": "",
       "aggOverflow": false,
       "aggSchema": [],
       "aggSeriesLimitReached": false,
       "aggType": "",
       "arguments": {},
       "columnCustomDisplayInfos": {},
       "data": [
        [
         "1973-05-26",
         "Nitesh Tiwari",
         "Biography, Drama, Sport",
         "Dangal",
         2016,
         "1965-03-14",
         "Aamir Khan",
         "Mahavir Singh Phogat"
        ],
        [
         "1973-05-26",
         "Nitesh Tiwari",
         "Biography, Drama, Sport",
         "Dangal",
         2016,
         "1992-01-11",
         "Fatima Sana Shaikh",
         "Geeta Phogat"
        ],
        [
         "1973-10-10",
         "S.S. Rajamouli",
         "Action, Drama",
         "Baahubali: The Beginning",
         2015,
         "1979-10-23",
         "Prabhas",
         "Shivudu / Mahendra Baahubali"
        ],
        [
         "1973-10-10",
         "S.S. Rajamouli",
         "Action, Drama",
         "Baahubali: The Beginning",
         2015,
         "1984-12-14",
         "Rana Daggubati",
         "Bhallaladeva"
        ],
        [
         "1962-11-20",
         "Rajkumar Hirani",
         "Comedy, Drama",
         "3 Idiots",
         2009,
         "1965-03-14",
         "Aamir Khan",
         "Rancho"
        ],
        [
         "1962-11-20",
         "Rajkumar Hirani",
         "Comedy, Drama",
         "3 Idiots",
         2009,
         "1970-06-01",
         "R. Madhavan",
         "Farhan Qureshi"
        ],
        [
         "1962-11-20",
         "Rajkumar Hirani",
         "Comedy, Drama",
         "3 Idiots",
         2009,
         "1979-04-28",
         "Sharman Joshi",
         "Raju Rastogi"
        ]
       ],
       "datasetInfos": [],
       "dbfsResultPath": null,
       "isJsonSchema": true,
       "metadata": {},
       "overflow": false,
       "plotOptions": {
        "customPlotOptions": {},
        "displayType": "table",
        "pivotAggregation": null,
        "pivotColumns": null,
        "xColumns": null,
        "yColumns": null
       },
       "removedWidgets": [],
       "schema": [
        {
         "metadata": "{}",
         "name": "director_dob",
         "type": "\"string\""
        },
        {
         "metadata": "{}",
         "name": "director_name",
         "type": "\"string\""
        },
        {
         "metadata": "{}",
         "name": "genre",
         "type": "\"string\""
        },
        {
         "metadata": "{}",
         "name": "title",
         "type": "\"string\""
        },
        {
         "metadata": "{}",
         "name": "year",
         "type": "\"long\""
        },
        {
         "metadata": "{}",
         "name": "date_of_birth",
         "type": "\"string\""
        },
        {
         "metadata": "{}",
         "name": "actor_name",
         "type": "\"string\""
        },
        {
         "metadata": "{}",
         "name": "actor_role",
         "type": "\"string\""
        }
       ],
       "type": "table"
      }
     },
     "output_type": "display_data"
    }
   ],
   "source": [
    "# Select the individual columns from the parsed data\n",
    "df_final = exploded_df.select(\n",
    "    exploded_df[\"director_dob\"],\n",
    "    exploded_df[\"director_name\"],\n",
    "    exploded_df[\"genre\"],\n",
    "    exploded_df[\"title\"],\n",
    "    exploded_df[\"year\"],\n",
    "    exploded_df[\"cast.dob\"].alias(\"date_of_birth\"),\n",
    "    exploded_df[\"cast.name\"].alias(\"actor_name\"),\n",
    "    exploded_df[\"cast.role\"].alias(\"actor_role\")\n",
    ")\n",
    "\n",
    "display(df_final)"
   ]
  },
  {
   "cell_type": "code",
   "execution_count": 0,
   "metadata": {
    "application/vnd.databricks.v1+cell": {
     "cellMetadata": {
      "byteLimit": 2048000,
      "rowLimit": 10000
     },
     "inputWidgets": {},
     "nuid": "a8ab9c7b-94a6-4082-9f18-4a0fdff9d8f3",
     "showTitle": false,
     "title": ""
    }
   },
   "outputs": [
    {
     "output_type": "stream",
     "name": "stdout",
     "output_type": "stream",
     "text": [
      "+---+--------------------+\n| id|           json_data|\n+---+--------------------+\n|  1|{\"dob\": \"1965-03-...|\n|  2|{\"dob\": \"1992-01-...|\n+---+--------------------+\n\nroot\n |-- id: long (nullable = true)\n |-- json_data: string (nullable = true)\n\n+---+----------+------------------+--------------------+\n| id|       dob|              name|                role|\n+---+----------+------------------+--------------------+\n|  1|1965-03-14|        Aamir Khan|Mahavir Singh Phogat|\n|  2|1992-01-11|Fatima Sana Shaikh|        Geeta Phogat|\n+---+----------+------------------+--------------------+\n\n"
     ]
    }
   ],
   "source": [
    "from pyspark.sql import SparkSession\n",
    "from pyspark.sql.functions import from_json\n",
    "from pyspark.sql.types import StructType, StringType\n",
    "\n",
    "# Sample data\n",
    "data = [(1, '{\"dob\": \"1965-03-14\", \"name\": \"Aamir Khan\", \"role\": \"Mahavir Singh Phogat\"}'),\n",
    "        (2, '{\"dob\": \"1992-01-11\", \"name\": \"Fatima Sana Shaikh\", \"role\": \"Geeta Phogat\"}')]\n",
    "\n",
    "# Create DataFrame\n",
    "df = spark.createDataFrame(data, [\"id\", \"json_data\"])\n",
    "\n",
    "# Show the resulting DataFrame\n",
    "df.show()\n",
    "\n",
    "df.printSchema()\n",
    "\n",
    "# Define the schema for the JSON data\n",
    "schema = StructType([\n",
    "    StructField(\"dob\", StringType(), True),\n",
    "    StructField(\"name\", StringType(), True),\n",
    "    StructField(\"role\", StringType(), True)\n",
    "])\n",
    "\n",
    "# Parse the JSON column into separate columns\n",
    "df_parsed = df.withColumn(\"parsed_data\", from_json(\"json_data\", schema))\n",
    "\n",
    "# Select the individual columns from the parsed data\n",
    "df_final = df_parsed.select(\"id\", \"parsed_data.dob\", \"parsed_data.name\", \"parsed_data.role\")\n",
    "\n",
    "# Show the resulting DataFrame\n",
    "df_final.show()\n"
   ]
  },
  {
   "cell_type": "code",
   "execution_count": 0,
   "metadata": {
    "application/vnd.databricks.v1+cell": {
     "cellMetadata": {
      "byteLimit": 2048000,
      "rowLimit": 10000
     },
     "inputWidgets": {},
     "nuid": "24be6289-c69f-4d5b-8a36-d8837c1773f9",
     "showTitle": false,
     "title": ""
    }
   },
   "outputs": [
    {
     "output_type": "stream",
     "name": "stdout",
     "output_type": "stream",
     "text": [
      "root\n |-- id: integer (nullable = true)\n |-- cast: struct (nullable = true)\n |    |-- dob: string (nullable = true)\n |    |-- name: string (nullable = true)\n |    |-- role: string (nullable = true)\n\n+---+----------+------------------+--------------------+\n| id|       dob|              name|                role|\n+---+----------+------------------+--------------------+\n|  1|1965-03-14|        Aamir Khan|Mahavir Singh Phogat|\n|  2|1992-01-11|Fatima Sana Shaikh|        Geeta Phogat|\n+---+----------+------------------+--------------------+\n\n"
     ]
    }
   ],
   "source": [
    "from pyspark.sql import SparkSession\n",
    "from pyspark.sql.types import StructType, StructField, StringType, IntegerType\n",
    "\n",
    "# Sample data\n",
    "data = [(1, {\"dob\": \"1965-03-14\", \"name\": \"Aamir Khan\", \"role\": \"Mahavir Singh Phogat\"}),\n",
    "        (2, {\"dob\": \"1992-01-11\", \"name\": \"Fatima Sana Shaikh\", \"role\": \"Geeta Phogat\"})]\n",
    "\n",
    "# Define schema for the data\n",
    "schema = StructType([\n",
    "    StructField(\"id\", IntegerType(), True),\n",
    "    StructField(\"cast\", StructType([\n",
    "        StructField(\"dob\", StringType(), True),\n",
    "        StructField(\"name\", StringType(), True),\n",
    "        StructField(\"role\", StringType(), True)\n",
    "    ]), True)\n",
    "])\n",
    "\n",
    "# Create DataFrame from the sample data\n",
    "df = spark.createDataFrame(data, schema)\n",
    "df.printSchema()\n",
    "\n",
    "# Flatten the structure\n",
    "flattened_df = df.select(\n",
    "    \"id\",\n",
    "    \"cast.dob\",\n",
    "    \"cast.name\",\n",
    "    \"cast.role\"\n",
    ")\n",
    "\n",
    "# Show the flattened DataFrame\n",
    "flattened_df.show()"
   ]
  }
 ],
 "metadata": {
  "application/vnd.databricks.v1+notebook": {
   "dashboards": [],
   "environmentMetadata": null,
   "language": "python",
   "notebookMetadata": {
    "pythonIndentUnit": 4
   },
   "notebookName": "2. Parsing nested JSON files in PySpark",
   "widgets": {}
  }
 },
 "nbformat": 4,
 "nbformat_minor": 0
}
